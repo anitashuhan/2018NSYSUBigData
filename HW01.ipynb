{
 "cells": [
  {
   "cell_type": "markdown",
   "metadata": {},
   "source": [
    "# Homework 01\n",
    "## 【題目】\n",
    "### 如何從一段文本中找出存在於詞庫的詞語"
   ]
  },
  {
   "cell_type": "code",
   "execution_count": 2,
   "metadata": {},
   "outputs": [],
   "source": [
    "import re"
   ]
  },
  {
   "cell_type": "code",
   "execution_count": 4,
   "metadata": {},
   "outputs": [],
   "source": [
    "text = '''外資連續 5 日賣超個股\n",
    "1. 外資連續賣超 5 日的股票\n",
    "(00632R) 元大台灣 50 反 1、 (00677U) 富邦 VIX、 (3481) 群創、 (00710B)FH 彭博高收益債、 (2888) 新光金\n",
    "2. 外資連續賣超 4 日的股票\n",
    "(00632R) 元大台灣 50 反 1、 (3481) 群創、 (00710B)FH 彭博高收益債、 (00677U) 富邦 VIX、 (2371) 大同\n",
    "3. 外資連續賣超 3 日的股票\n",
    "(00632R) 元大台灣 50 反 1、 (00710B)FH 彭博高收益債、 (2888) 新光金、 (00677U) 富邦 VIX、 (3481) 群創\n",
    "4. 外資連續賣超 2 日的股票\n",
    "(00632R) 元大台灣 50 反 1、 (00710B)FH 彭博高收益債、 (2888) 新光金、 (2891) 中信金、 (3481) 群創\n",
    "5. 外資當日 (14) 賣超的股票\n",
    "(00632R) 元大台灣 50 反 1、 (2888) 新光金、 (2344) 華邦電、 (2317) 鴻海、 (2891) 中信金\n",
    " '''"
   ]
  },
  {
   "cell_type": "code",
   "execution_count": 5,
   "metadata": {
    "collapsed": true
   },
   "outputs": [],
   "source": [
    "TW50 = ['台泥','亞泥','統一','台塑','南亞','台化','遠東新','台肥','中鋼','正新','裕隆','和泰車','光寶科','聯電','台達電','日月光',\n",
    "        '鴻海','股票名稱','仁寶','矽品','台積電','聯強','宏碁','鴻準','華碩','廣達','友達','中華電','聯發科','可成','宏達電','彰銀',\n",
    "        '華南金','富邦金','國泰金','開發金','股票名稱','元大金','兆豐金','永豐金','中信金','第一金','統一超','大立光','台灣大','緯創',\n",
    "        '群創','TPK-KY','3697','遠傳','合庫金','台塑化']"
   ]
  },
  {
   "cell_type": "code",
   "execution_count": 6,
   "metadata": {
    "collapsed": true
   },
   "outputs": [],
   "source": [
    "pattern = '|'.join(TW50)"
   ]
  },
  {
   "cell_type": "code",
   "execution_count": 7,
   "metadata": {},
   "outputs": [
    {
     "data": {
      "text/plain": [
       "['群創', '群創', '群創', '中信金', '群創', '鴻海', '中信金']"
      ]
     },
     "execution_count": 7,
     "metadata": {},
     "output_type": "execute_result"
    }
   ],
   "source": [
    "re.findall(pattern,text)"
   ]
  }
 ],
 "metadata": {
  "kernelspec": {
   "display_name": "Python 3",
   "language": "python",
   "name": "python3"
  },
  "language_info": {
   "codemirror_mode": {
    "name": "ipython",
    "version": 3
   },
   "file_extension": ".py",
   "mimetype": "text/x-python",
   "name": "python",
   "nbconvert_exporter": "python",
   "pygments_lexer": "ipython3",
   "version": "3.6.3"
  }
 },
 "nbformat": 4,
 "nbformat_minor": 2
}
